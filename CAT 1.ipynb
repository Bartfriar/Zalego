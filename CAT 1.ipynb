{
 "cells": [
  {
   "cell_type": "markdown",
   "metadata": {},
   "source": [
    "### Name : ______________"
   ]
  },
  {
   "cell_type": "code",
   "execution_count": null,
   "metadata": {},
   "outputs": [],
   "source": [
    "Murithi Fred Nyaga"
   ]
  },
  {
   "cell_type": "markdown",
   "metadata": {},
   "source": [
    "### Question 1"
   ]
  },
  {
   "cell_type": "markdown",
   "metadata": {},
   "source": [
    "Write a Python program that prompts the user for two numbers, reads them in, and prints out the product"
   ]
  },
  {
   "cell_type": "code",
   "execution_count": 1,
   "metadata": {},
   "outputs": [
    {
     "name": "stdout",
     "output_type": "stream",
     "text": [
      "Enter first Number2\n",
      "Enter Second Number3\n",
      "The product is: 6\n"
     ]
    }
   ],
   "source": [
    "num1 = int(input(\"Enter first Number\"))\n",
    "num2 = int(input(\"Enter Second Number\"))\n",
    "product = num1 * num2\n",
    "print (\"The product is:\", product)"
   ]
  },
  {
   "cell_type": "markdown",
   "metadata": {},
   "source": [
    "### Question 2"
   ]
  },
  {
   "cell_type": "markdown",
   "metadata": {},
   "source": [
    "Given a string s, write a short expression for a string that includes s repeated five times"
   ]
  },
  {
   "cell_type": "code",
   "execution_count": 10,
   "metadata": {},
   "outputs": [
    {
     "name": "stdout",
     "output_type": "stream",
     "text": [
      "Hello\n",
      "Hello\n",
      "Hello\n",
      "Hello\n",
      "Hello\n"
     ]
    }
   ],
   "source": [
    "s = \"Hello\"\n",
    "count = 0\n",
    "while count < 5:\n",
    "    print (s)\n",
    "    count +=1"
   ]
  },
  {
   "cell_type": "markdown",
   "metadata": {},
   "source": [
    "### Question 3"
   ]
  },
  {
   "cell_type": "markdown",
   "metadata": {},
   "source": [
    "Write a Python code to concatenate following dictionaries to create a new one.\n",
    "\n",
    "dic1={1:10, 2:20}\n",
    "\n",
    "dic2={3:30, 4:40}\n",
    "\n",
    "dic3={5:50,6:60}\n",
    "\n",
    "Expected Result : {1: 10, 2: 20, 3: 30, 4: 40, 5: 50, 6: 60}"
   ]
  },
  {
   "cell_type": "code",
   "execution_count": 75,
   "metadata": {},
   "outputs": [
    {
     "ename": "AttributeError",
     "evalue": "'dict' object has no attribute 'add'",
     "output_type": "error",
     "traceback": [
      "\u001b[1;31m---------------------------------------------------------------------------\u001b[0m",
      "\u001b[1;31mAttributeError\u001b[0m                            Traceback (most recent call last)",
      "\u001b[1;32m<ipython-input-75-13c685010e83>\u001b[0m in \u001b[0;36m<module>\u001b[1;34m\u001b[0m\n\u001b[0;32m      4\u001b[0m \u001b[1;33m\u001b[0m\u001b[0m\n\u001b[0;32m      5\u001b[0m \u001b[0mdic3\u001b[0m\u001b[1;33m=\u001b[0m\u001b[1;33m{\u001b[0m\u001b[1;36m5\u001b[0m\u001b[1;33m:\u001b[0m\u001b[1;36m50\u001b[0m\u001b[1;33m,\u001b[0m\u001b[1;36m6\u001b[0m\u001b[1;33m:\u001b[0m\u001b[1;36m60\u001b[0m\u001b[1;33m}\u001b[0m\u001b[1;33m\u001b[0m\u001b[1;33m\u001b[0m\u001b[0m\n\u001b[1;32m----> 6\u001b[1;33m \u001b[0mbigdic\u001b[0m\u001b[1;33m.\u001b[0m\u001b[0madd\u001b[0m\u001b[1;33m(\u001b[0m\u001b[0mdic1\u001b[0m\u001b[1;33m.\u001b[0m\u001b[0mitems\u001b[0m\u001b[1;33m(\u001b[0m\u001b[1;33m)\u001b[0m\u001b[1;33m)\u001b[0m\u001b[1;33m\u001b[0m\u001b[1;33m\u001b[0m\u001b[0m\n\u001b[0m\u001b[0;32m      7\u001b[0m \u001b[0mbigdic\u001b[0m \u001b[1;33m=\u001b[0m \u001b[0mdict\u001b[0m\u001b[1;33m(\u001b[0m\u001b[1;33m)\u001b[0m\u001b[1;33m\u001b[0m\u001b[1;33m\u001b[0m\u001b[0m\n\u001b[0;32m      8\u001b[0m \u001b[1;31m# bigdic = dic1 + dic2\u001b[0m\u001b[1;33m\u001b[0m\u001b[1;33m\u001b[0m\u001b[1;33m\u001b[0m\u001b[0m\n",
      "\u001b[1;31mAttributeError\u001b[0m: 'dict' object has no attribute 'add'"
     ]
    }
   ],
   "source": [
    "dic1={1:10, 2:20}\n",
    "\n",
    "dic2={3:30, 4:40}\n",
    "\n",
    "dic3={5:50,6:60}\n",
    "\n",
    "bigdic = dict()\n",
    "# bigdic = dic1 + dic2\n",
    "print (bigdic)"
   ]
  },
  {
   "cell_type": "markdown",
   "metadata": {},
   "source": [
    "### Question 4"
   ]
  },
  {
   "cell_type": "markdown",
   "metadata": {},
   "source": [
    "Write a Python code to combine values in python list of dictionaries.\n",
    "\n",
    "Sample data: [{'item': 'item1', 'amount': 400}, {'item': 'item2', 'amount': 300}, {'item': 'item1', 'amount': 750}]\n",
    "\n",
    "Expected Output: Counter({'item1': 1150, 'item2': 300})"
   ]
  },
  {
   "cell_type": "markdown",
   "metadata": {},
   "source": []
  },
  {
   "cell_type": "code",
   "execution_count": 78,
   "metadata": {},
   "outputs": [
    {
     "ename": "AttributeError",
     "evalue": "'list' object has no attribute 'items'",
     "output_type": "error",
     "traceback": [
      "\u001b[1;31m---------------------------------------------------------------------------\u001b[0m",
      "\u001b[1;31mAttributeError\u001b[0m                            Traceback (most recent call last)",
      "\u001b[1;32m<ipython-input-78-f3d91d2661d7>\u001b[0m in \u001b[0;36m<module>\u001b[1;34m\u001b[0m\n\u001b[0;32m      1\u001b[0m \u001b[0msamplelist\u001b[0m \u001b[1;33m=\u001b[0m \u001b[1;33m[\u001b[0m\u001b[1;33m{\u001b[0m\u001b[1;34m'item'\u001b[0m\u001b[1;33m:\u001b[0m \u001b[1;34m'item1'\u001b[0m\u001b[1;33m,\u001b[0m \u001b[1;34m'amount'\u001b[0m\u001b[1;33m:\u001b[0m \u001b[1;36m400\u001b[0m\u001b[1;33m}\u001b[0m\u001b[1;33m,\u001b[0m \u001b[1;33m{\u001b[0m\u001b[1;34m'item'\u001b[0m\u001b[1;33m:\u001b[0m \u001b[1;34m'item2'\u001b[0m\u001b[1;33m,\u001b[0m \u001b[1;34m'amount'\u001b[0m\u001b[1;33m:\u001b[0m \u001b[1;36m300\u001b[0m\u001b[1;33m}\u001b[0m\u001b[1;33m,\u001b[0m \u001b[1;33m{\u001b[0m\u001b[1;34m'item'\u001b[0m\u001b[1;33m:\u001b[0m \u001b[1;34m'item1'\u001b[0m\u001b[1;33m,\u001b[0m \u001b[1;34m'amount'\u001b[0m\u001b[1;33m:\u001b[0m \u001b[1;36m750\u001b[0m\u001b[1;33m}\u001b[0m\u001b[1;33m]\u001b[0m\u001b[1;33m\u001b[0m\u001b[1;33m\u001b[0m\u001b[0m\n\u001b[0;32m      2\u001b[0m \u001b[0mcounter\u001b[0m \u001b[1;33m=\u001b[0m \u001b[0mdict\u001b[0m\u001b[1;33m(\u001b[0m\u001b[1;33m)\u001b[0m\u001b[1;33m\u001b[0m\u001b[1;33m\u001b[0m\u001b[0m\n\u001b[1;32m----> 3\u001b[1;33m \u001b[0mprint\u001b[0m \u001b[1;33m(\u001b[0m\u001b[0msamplelist\u001b[0m\u001b[1;33m.\u001b[0m\u001b[0mitems\u001b[0m\u001b[1;33m(\u001b[0m\u001b[1;33m)\u001b[0m\u001b[1;33m)\u001b[0m\u001b[1;33m\u001b[0m\u001b[1;33m\u001b[0m\u001b[0m\n\u001b[0m",
      "\u001b[1;31mAttributeError\u001b[0m: 'list' object has no attribute 'items'"
     ]
    }
   ],
   "source": [
    "samplelist = [{'item': 'item1', 'amount': 400}, {'item': 'item2', 'amount': 300}, {'item': 'item1', 'amount': 750}]\n",
    "counter = dict()\n"
   ]
  },
  {
   "cell_type": "markdown",
   "metadata": {},
   "source": [
    "### Question 5"
   ]
  },
  {
   "cell_type": "markdown",
   "metadata": {},
   "source": [
    "Write a Python function to check whether a number is divisible by another number.\n",
    "\n",
    "Accept two integers values form the user."
   ]
  },
  {
   "cell_type": "code",
   "execution_count": 18,
   "metadata": {},
   "outputs": [
    {
     "name": "stdout",
     "output_type": "stream",
     "text": [
      "3 is not divisible by 4\n"
     ]
    }
   ],
   "source": [
    "def divisible(int1,int2):\n",
    "    if int1 % int2 == 0:\n",
    "        print(int1,\"is divisible by\",int2)\n",
    "    else:\n",
    "        print(int1,\"is not divisible by\",int2)\n",
    "        \n",
    "divisible(3,4)"
   ]
  },
  {
   "cell_type": "markdown",
   "metadata": {},
   "source": [
    "### Question 6"
   ]
  },
  {
   "cell_type": "markdown",
   "metadata": {},
   "source": [
    "Write a Python program to count the number of characters (character frequency) in a string. \n",
    "\n",
    "Sample String : google.com'\n",
    "\n",
    "Expected Result : {'o': 3, 'g': 2, '.': 1, 'e': 1, 'l': 1, 'm': 1, 'c': 1}"
   ]
  },
  {
   "cell_type": "markdown",
   "metadata": {},
   "source": []
  },
  {
   "cell_type": "code",
   "execution_count": 58,
   "metadata": {},
   "outputs": [
    {
     "name": "stdout",
     "output_type": "stream",
     "text": [
      "{'g': 2, 'o': 3, 'l': 1, 'e': 1, '.': 1, 'c': 1, 'm': 1}\n"
     ]
    }
   ],
   "source": [
    "link = \"google.com\"\n",
    "count_link = dict()\n",
    "for lett in link:\n",
    "    if lett not in count_link:\n",
    "        count_link[lett] = 1\n",
    "    else:\n",
    "        count_link[lett] += 1\n",
    "print (count_link)"
   ]
  },
  {
   "cell_type": "markdown",
   "metadata": {},
   "source": [
    "### Question 7"
   ]
  },
  {
   "cell_type": "markdown",
   "metadata": {},
   "source": [
    "Write a Python function that takes a list of words and returns the length of the longest one"
   ]
  },
  {
   "cell_type": "code",
   "execution_count": 166,
   "metadata": {},
   "outputs": [
    {
     "name": "stdout",
     "output_type": "stream",
     "text": [
      "newest\n"
     ]
    }
   ],
   "source": [
    "listw = ['new','newer','newest','newp']\n",
    "# def lstw (lst):\n",
    "lnglst = dict()\n",
    "lst = listw\n",
    "for words in lst:\n",
    "    if words not in lnglst:\n",
    "        lengw = len(words)\n",
    "        lnglst[words] = lengw\n",
    "print (max(lnglst, key=lnglst.get))\n",
    "# lstw(listw)"
   ]
  },
  {
   "cell_type": "markdown",
   "metadata": {},
   "source": [
    "### Question 8"
   ]
  },
  {
   "cell_type": "markdown",
   "metadata": {},
   "source": [
    "Write a Python function that takes a string as an argument then returns a reverse of the string.\n",
    "\n",
    "Sample String : myReverse(\"1234abcd\")\n",
    "Expected Output : \"dcba4321\""
   ]
  },
  {
   "cell_type": "code",
   "execution_count": 21,
   "metadata": {},
   "outputs": [
    {
     "data": {
      "text/plain": [
       "'amabo'"
      ]
     },
     "execution_count": 21,
     "metadata": {},
     "output_type": "execute_result"
    }
   ],
   "source": [
    "def reverse(str1):\n",
    "    rev = str1[::-1]\n",
    "    return (rev)\n",
    "reverse(\"obama\")"
   ]
  },
  {
   "cell_type": "markdown",
   "metadata": {},
   "source": [
    "### Question 9"
   ]
  },
  {
   "cell_type": "markdown",
   "metadata": {},
   "source": [
    "You have a list of words\n",
    "['apple', 'book', 'melon', 'applewatch', 'man', 'notebook', 'watch', 'water', 'super', 'watermelon', 'notebook', 'superman']\n",
    "\n",
    "Given this list\n",
    "['book', 'apple', 'notebook', 'note', 'applewatch', 'melon', 'watermelon']\n",
    "\n",
    "Print out all compound words in the list, the expected output should be something like this:\n",
    "['notebook', 'applewatch', 'watermelon']\n"
   ]
  },
  {
   "cell_type": "code",
   "execution_count": 163,
   "metadata": {},
   "outputs": [
    {
     "name": "stdout",
     "output_type": "stream",
     "text": [
      "['book', 'apple', 'notebook', 'applewatch', 'melon', 'watermelon']\n"
     ]
    }
   ],
   "source": [
    "words1 = ['apple', 'book', 'melon', 'applewatch', 'man', 'notebook', 'watch', 'water', 'super', 'watermelon', 'notebook', 'superman']\n",
    "words2 = ['book', 'apple', 'notebook', 'note', 'applewatch', 'melon', 'watermelon']\n",
    "compound = list()\n",
    "for word in words2:\n",
    "    if word  in words1:\n",
    "        compound.append(word)\n",
    "print (compound)"
   ]
  },
  {
   "cell_type": "markdown",
   "metadata": {},
   "source": [
    "### Question 10"
   ]
  },
  {
   "cell_type": "markdown",
   "metadata": {},
   "source": [
    "Write a Python program to convert a list of multiple integers into a single integer.\n",
    "\n",
    "Sample list: [11, 33, 50]\n",
    "    \n",
    "Expected Output: 113350"
   ]
  },
  {
   "cell_type": "code",
   "execution_count": 150,
   "metadata": {},
   "outputs": [
    {
     "name": "stdout",
     "output_type": "stream",
     "text": [
      "505050\n"
     ]
    }
   ],
   "source": [
    "multint = [11, 33, 50]\n",
    "for single in multint:\n",
    "    str1 = str(single)\n",
    "    str2 = str1\n",
    "    str3 = str2\n",
    "singstr = str1 + str2 +str3\n",
    "print (singstr)"
   ]
  },
  {
   "cell_type": "markdown",
   "metadata": {},
   "source": [
    "### Question 11"
   ]
  },
  {
   "cell_type": "markdown",
   "metadata": {},
   "source": [
    "Given a string 'P a n a g s n j g d A M D', convert all the letter to uppercase the make a list of the characters. \n",
    "\n",
    "Output = ['P', 'A', 'N', 'A', 'G', 'S', 'N', 'J', 'G', 'D', 'A', 'M', 'D']"
   ]
  },
  {
   "cell_type": "code",
   "execution_count": 33,
   "metadata": {},
   "outputs": [
    {
     "name": "stdout",
     "output_type": "stream",
     "text": [
      "['P', 'A', 'N', 'A', 'G', 'S', 'N', 'J', 'G', 'D', 'A', 'M', 'D']\n"
     ]
    }
   ],
   "source": [
    "newstr = \"PanagsnjgdAMD\"\n",
    "upperstr = newstr.upper()\n",
    "liststr = list()\n",
    "for letter in upperstr:\n",
    "    liststr.append(letter)\n",
    "print (liststr)"
   ]
  },
  {
   "cell_type": "markdown",
   "metadata": {},
   "source": [
    "### Question 12"
   ]
  },
  {
   "cell_type": "markdown",
   "metadata": {},
   "source": [
    "Write a Python function that checks whether a passed string is palindrome or not. \n",
    "Note: A palindrome is a word, phrase, or sequence that reads the same backward as forward, e.g., madam or nurses run."
   ]
  },
  {
   "cell_type": "code",
   "execution_count": 160,
   "metadata": {},
   "outputs": [],
   "source": [
    "def palindrome(word):\n",
    "    word = \"madam\"\n",
    "    strword = str(word)\n",
    "    revword = strword[::-1]\n",
    "    lst1 = list()\n",
    "    lst2 = list()\n",
    "    for lett in strword:\n",
    "        lst1.append(lett)\n",
    "    for letts in revword:\n",
    "        lst2.append(letts)\n",
    "    if lst1 == lst2:\n",
    "        print(word,\"is a palindrome\")\n",
    "    else:\n",
    "        print(word,\"is not palindrome\")"
   ]
  },
  {
   "cell_type": "code",
   "execution_count": 161,
   "metadata": {},
   "outputs": [
    {
     "name": "stdout",
     "output_type": "stream",
     "text": [
      "madam is a palindrome\n"
     ]
    }
   ],
   "source": [
    "palindrome(\"madam\")"
   ]
  },
  {
   "cell_type": "code",
   "execution_count": null,
   "metadata": {},
   "outputs": [],
   "source": []
  }
 ],
 "metadata": {
  "kernelspec": {
   "display_name": "Python 3",
   "language": "python",
   "name": "python3"
  },
  "language_info": {
   "codemirror_mode": {
    "name": "ipython",
    "version": 3
   },
   "file_extension": ".py",
   "mimetype": "text/x-python",
   "name": "python",
   "nbconvert_exporter": "python",
   "pygments_lexer": "ipython3",
   "version": "3.7.3"
  }
 },
 "nbformat": 4,
 "nbformat_minor": 2
}
